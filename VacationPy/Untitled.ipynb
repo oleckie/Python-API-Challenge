{
 "cells": [
  {
   "cell_type": "code",
   "execution_count": 1,
   "id": "b38c9af4-882d-45e5-a20d-9ce543cb99dd",
   "metadata": {},
   "outputs": [],
   "source": [
    "import matplotlib.pyplot as plt\n",
    "import pandas as pd\n",
    "import numpy as np\n",
    "import requests\n",
    "import time\n",
    "from scipy.stats import linregress"
   ]
  },
  {
   "cell_type": "code",
   "execution_count": 9,
   "id": "8cd70c52-939e-42bf-bdf2-7c321a2dd067",
   "metadata": {},
   "outputs": [
    {
     "ename": "SyntaxError",
     "evalue": "(unicode error) 'unicodeescape' codec can't decode bytes in position 2-3: truncated \\UXXXXXXXX escape (Temp/ipykernel_23420/2276685114.py, line 6)",
     "output_type": "error",
     "traceback": [
      "\u001b[1;36m  File \u001b[1;32m\"C:\\Users\\orlan\\AppData\\Local\\Temp/ipykernel_23420/2276685114.py\"\u001b[1;36m, line \u001b[1;32m6\u001b[0m\n\u001b[1;33m    response.to_csv(\"C:\\Users\\orlan\\Downloads\\01_All_My_Repos\\Project 1\\Project_1\\crime.csv\")\u001b[0m\n\u001b[1;37m                                                                                            ^\u001b[0m\n\u001b[1;31mSyntaxError\u001b[0m\u001b[1;31m:\u001b[0m (unicode error) 'unicodeescape' codec can't decode bytes in position 2-3: truncated \\UXXXXXXXX escape\n"
     ]
    }
   ],
   "source": [
    "url = \"https://data.lacity.org/resource/63jg-8b9z.json\"\n",
    "\n",
    "response = requests.get(url).json()\n",
    "response\n",
    "\n",
    "response.to_csv(\"C:\\Users\\orlan\\Downloads\\01_All_My_Repos\\Project 1\\Project_1\\crime.csv\")"
   ]
  },
  {
   "cell_type": "code",
   "execution_count": null,
   "id": "50ec661b-59dd-4178-bc84-139dcf5e5a06",
   "metadata": {},
   "outputs": [],
   "source": []
  }
 ],
 "metadata": {
  "kernelspec": {
   "display_name": "Python 3 (ipykernel)",
   "language": "python",
   "name": "python3"
  },
  "language_info": {
   "codemirror_mode": {
    "name": "ipython",
    "version": 3
   },
   "file_extension": ".py",
   "mimetype": "text/x-python",
   "name": "python",
   "nbconvert_exporter": "python",
   "pygments_lexer": "ipython3",
   "version": "3.9.7"
  }
 },
 "nbformat": 4,
 "nbformat_minor": 5
}
